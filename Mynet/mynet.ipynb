{
 "cells": [
  {
   "cell_type": "code",
   "execution_count": 3,
   "metadata": {},
   "outputs": [
    {
     "name": "stderr",
     "output_type": "stream",
     "text": [
      "Using TensorFlow backend.\n"
     ]
    }
   ],
   "source": [
    "import tensorflow as tf\n",
    "from keras import backend as K\n",
    "\n",
    "#GPU使用の際 メモリ確保を必要な文だけにする\n",
    "#config = tf.configProto()\n",
    "#config.gpu_options.allow_growth = True\n",
    "#config.gpu_options.visible_device_list = \"0\"\n",
    "#sess = tf.Session(config=config)\n",
    "#K.set_session(sess)\n",
    "\n",
    "#ネットワーク定義\n",
    "from keras.models import Sequential, Model\n",
    "from keras.layers import Dense, Dropout, Activation, Flatten\n",
    "from keras.layers import Conv2D, MaxPooling2D"
   ]
  },
  {
   "cell_type": "code",
   "execution_count": null,
   "metadata": {},
   "outputs": [],
   "source": [
    "#α、βのニクラス分類問題とする。num_classes=2。入力サイズは1280*960\n",
    "num_classes = 2\n",
    "img_height, img_width = 980, 1260\n",
    "def Mynet():\n",
    "    model = Sequential()\n",
    "    model.add(Conv2D(32,(3,3),padding='same',activation='relu',input_shape=(img_height,img_width,1)))"
   ]
  }
 ],
 "metadata": {
  "kernelspec": {
   "display_name": "Python 3",
   "language": "python",
   "name": "python3"
  },
  "language_info": {
   "codemirror_mode": {
    "name": "ipython",
    "version": 3
   },
   "file_extension": ".py",
   "mimetype": "text/x-python",
   "name": "python",
   "nbconvert_exporter": "python",
   "pygments_lexer": "ipython3",
   "version": "3.6.7"
  }
 },
 "nbformat": 4,
 "nbformat_minor": 2
}
